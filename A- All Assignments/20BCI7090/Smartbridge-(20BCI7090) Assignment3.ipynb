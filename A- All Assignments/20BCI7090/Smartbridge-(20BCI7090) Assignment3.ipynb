{
 "cells": [
  {
   "cell_type": "code",
   "execution_count": 1,
   "metadata": {
    "id": "DKTpaAWBgYp_"
   },
   "outputs": [],
   "source": [
    "# Data Augmentation\n",
    "\n",
    "from tensorflow.keras.preprocessing.image import ImageDataGenerator"
   ]
  },
  {
   "cell_type": "code",
   "execution_count": 2,
   "metadata": {
    "id": "_vlV-kYdgYnN"
   },
   "outputs": [],
   "source": [
    "train_path = \"C:/Users/MNS.Gayathri/Downloads/train_data\"\n",
    "test_path = \"C:/Users/MNS.Gayathri/Downloads/test_data\""
   ]
  },
  {
   "cell_type": "code",
   "execution_count": 3,
   "metadata": {
    "id": "ca-maFhWjETA"
   },
   "outputs": [],
   "source": [
    "train_gen = ImageDataGenerator(rescale=1./255,\n",
    "                               shear_range=0.2,\n",
    "                               zoom_range=0.2,\n",
    "                               horizontal_flip=True)\n",
    "\n",
    "test_gen = ImageDataGenerator(rescale=1./255) "
   ]
  },
  {
   "cell_type": "code",
   "execution_count": 4,
   "metadata": {
    "colab": {
     "base_uri": "https://localhost:8080/"
    },
    "id": "Ue2j7NomgYfS",
    "outputId": "163bf888-86d4-42c3-dfad-e16f806effc5"
   },
   "outputs": [
    {
     "name": "stdout",
     "output_type": "stream",
     "text": [
      "Found 150 images belonging to 16 classes.\n",
      "Found 157 images belonging to 16 classes.\n"
     ]
    }
   ],
   "source": [
    "train = train_gen.flow_from_directory(train_path,\n",
    "                                      target_size=(224,224),\n",
    "                                      batch_size=22,\n",
    "                                      class_mode='categorical')\n",
    "\n",
    "test = test_gen.flow_from_directory(test_path,\n",
    "                                      target_size=(224,224),\n",
    "                                      batch_size=22,\n",
    "                                      class_mode='categorical')"
   ]
  },
  {
   "cell_type": "code",
   "execution_count": 5,
   "metadata": {
    "colab": {
     "base_uri": "https://localhost:8080/"
    },
    "id": "Tjt851qngYbp",
    "outputId": "a782efe9-5aed-400a-d71e-f47e51e06dd9"
   },
   "outputs": [
    {
     "data": {
      "text/plain": [
       "{'blasti': 0,\n",
       " 'bonegl': 1,\n",
       " 'brhkyt': 2,\n",
       " 'cbrtsh': 3,\n",
       " 'cmnmyn': 4,\n",
       " 'gretit': 5,\n",
       " 'hilpig': 6,\n",
       " 'himbul': 7,\n",
       " 'himgri': 8,\n",
       " 'hsparo': 9,\n",
       " 'indvul': 10,\n",
       " 'jglowl': 11,\n",
       " 'lbicrw': 12,\n",
       " 'mgprob': 13,\n",
       " 'rebimg': 14,\n",
       " 'wcrsrt': 15}"
      ]
     },
     "execution_count": 5,
     "metadata": {},
     "output_type": "execute_result"
    }
   ],
   "source": [
    "train.class_indices"
   ]
  },
  {
   "cell_type": "code",
   "execution_count": 6,
   "metadata": {
    "id": "8NbqrgDDgYZb"
   },
   "outputs": [],
   "source": [
    "from tensorflow.keras.layers import Dense,Flatten,Input\n",
    "from tensorflow.keras.models import Model\n",
    "from tensorflow.keras.preprocessing import image\n",
    "from tensorflow.keras.preprocessing.image import ImageDataGenerator, load_img\n",
    "import numpy as np\n",
    "from keras.layers import Input, Dense, Flatten, Dropout\n",
    "from tensorflow.keras.layers import BatchNormalization, Dropout"
   ]
  },
  {
   "cell_type": "code",
   "execution_count": 7,
   "metadata": {
    "id": "tELyDaaVgYXM"
   },
   "outputs": [],
   "source": [
    "from tensorflow.keras.applications.vgg16 import VGG16, preprocess_input"
   ]
  },
  {
   "cell_type": "code",
   "execution_count": 8,
   "metadata": {
    "colab": {
     "base_uri": "https://localhost:8080/"
    },
    "id": "95p17Z89gYUp",
    "outputId": "e32abcfd-8e13-427b-87e6-e727fe38e0de"
   },
   "outputs": [],
   "source": [
    "# Adding the preprocessing layer to the front of vgg\n",
    "\n",
    "vgg = VGG16(include_top=False,weights='imagenet',input_shape=(224,224,3))"
   ]
  },
  {
   "cell_type": "code",
   "execution_count": 9,
   "metadata": {
    "colab": {
     "base_uri": "https://localhost:8080/"
    },
    "id": "ho8I3SGugYSE",
    "outputId": "201e4d53-872a-46e2-f5a8-e3ecdf8080df"
   },
   "outputs": [
    {
     "name": "stdout",
     "output_type": "stream",
     "text": [
      "<keras.engine.input_layer.InputLayer object at 0x0000022E98AD3A00>\n",
      "<keras.layers.convolutional.conv2d.Conv2D object at 0x0000022E98AD3040>\n",
      "<keras.layers.convolutional.conv2d.Conv2D object at 0x0000022E98ABDFD0>\n",
      "<keras.layers.pooling.max_pooling2d.MaxPooling2D object at 0x0000022E98BDB700>\n",
      "<keras.layers.convolutional.conv2d.Conv2D object at 0x0000022E98ABDE20>\n",
      "<keras.layers.convolutional.conv2d.Conv2D object at 0x0000022E99BE7A90>\n",
      "<keras.layers.pooling.max_pooling2d.MaxPooling2D object at 0x0000022E99BF17F0>\n",
      "<keras.layers.convolutional.conv2d.Conv2D object at 0x0000022E99BE7610>\n",
      "<keras.layers.convolutional.conv2d.Conv2D object at 0x0000022E99BF5B50>\n",
      "<keras.layers.convolutional.conv2d.Conv2D object at 0x0000022E99BF5610>\n",
      "<keras.layers.pooling.max_pooling2d.MaxPooling2D object at 0x0000022E99BF4A00>\n",
      "<keras.layers.convolutional.conv2d.Conv2D object at 0x0000022E99C06280>\n",
      "<keras.layers.convolutional.conv2d.Conv2D object at 0x0000022E99C06F10>\n",
      "<keras.layers.convolutional.conv2d.Conv2D object at 0x0000022E99BF4250>\n",
      "<keras.layers.pooling.max_pooling2d.MaxPooling2D object at 0x0000022E99C11520>\n",
      "<keras.layers.convolutional.conv2d.Conv2D object at 0x0000022E98BDB040>\n",
      "<keras.layers.convolutional.conv2d.Conv2D object at 0x0000022E99BF1790>\n",
      "<keras.layers.convolutional.conv2d.Conv2D object at 0x0000022E99C152B0>\n",
      "<keras.layers.pooling.max_pooling2d.MaxPooling2D object at 0x0000022E99BF4550>\n"
     ]
    }
   ],
   "source": [
    "for layer in vgg.layers:\n",
    "    print(layer)"
   ]
  },
  {
   "cell_type": "code",
   "execution_count": 10,
   "metadata": {
    "id": "bQ5mGn9XgYPW"
   },
   "outputs": [],
   "source": [
    "# Train model with existing weights\n",
    "\n",
    "for layer in vgg.layers:\n",
    "    layer.trainable=False"
   ]
  },
  {
   "cell_type": "code",
   "execution_count": 11,
   "metadata": {
    "id": "7CaIFIEIgYMj"
   },
   "outputs": [],
   "source": [
    "x = Flatten()(vgg.output)"
   ]
  },
  {
   "cell_type": "code",
   "execution_count": 12,
   "metadata": {
    "id": "utH3Lb1NgYJ7"
   },
   "outputs": [],
   "source": [
    "# output layer\n",
    "prediction = Dense(16,activation='softmax')(x)"
   ]
  },
  {
   "cell_type": "code",
   "execution_count": 13,
   "metadata": {
    "id": "jAsFfNicgYHi"
   },
   "outputs": [],
   "source": [
    "# Create Vgg16 model\n",
    "\n",
    "model = Model(inputs=vgg.input,outputs=prediction)"
   ]
  },
  {
   "cell_type": "code",
   "execution_count": 14,
   "metadata": {
    "colab": {
     "base_uri": "https://localhost:8080/"
    },
    "id": "932wB6oMgYE8",
    "outputId": "1a357254-1ca7-4a9f-86d3-653ddc7f1a0e"
   },
   "outputs": [
    {
     "name": "stdout",
     "output_type": "stream",
     "text": [
      "Model: \"model\"\n",
      "_________________________________________________________________\n",
      " Layer (type)                Output Shape              Param #   \n",
      "=================================================================\n",
      " input_1 (InputLayer)        [(None, 224, 224, 3)]     0         \n",
      "                                                                 \n",
      " block1_conv1 (Conv2D)       (None, 224, 224, 64)      1792      \n",
      "                                                                 \n",
      " block1_conv2 (Conv2D)       (None, 224, 224, 64)      36928     \n",
      "                                                                 \n",
      " block1_pool (MaxPooling2D)  (None, 112, 112, 64)      0         \n",
      "                                                                 \n",
      " block2_conv1 (Conv2D)       (None, 112, 112, 128)     73856     \n",
      "                                                                 \n",
      " block2_conv2 (Conv2D)       (None, 112, 112, 128)     147584    \n",
      "                                                                 \n",
      " block2_pool (MaxPooling2D)  (None, 56, 56, 128)       0         \n",
      "                                                                 \n",
      " block3_conv1 (Conv2D)       (None, 56, 56, 256)       295168    \n",
      "                                                                 \n",
      " block3_conv2 (Conv2D)       (None, 56, 56, 256)       590080    \n",
      "                                                                 \n",
      " block3_conv3 (Conv2D)       (None, 56, 56, 256)       590080    \n",
      "                                                                 \n",
      " block3_pool (MaxPooling2D)  (None, 28, 28, 256)       0         \n",
      "                                                                 \n",
      " block4_conv1 (Conv2D)       (None, 28, 28, 512)       1180160   \n",
      "                                                                 \n",
      " block4_conv2 (Conv2D)       (None, 28, 28, 512)       2359808   \n",
      "                                                                 \n",
      " block4_conv3 (Conv2D)       (None, 28, 28, 512)       2359808   \n",
      "                                                                 \n",
      " block4_pool (MaxPooling2D)  (None, 14, 14, 512)       0         \n",
      "                                                                 \n",
      " block5_conv1 (Conv2D)       (None, 14, 14, 512)       2359808   \n",
      "                                                                 \n",
      " block5_conv2 (Conv2D)       (None, 14, 14, 512)       2359808   \n",
      "                                                                 \n",
      " block5_conv3 (Conv2D)       (None, 14, 14, 512)       2359808   \n",
      "                                                                 \n",
      " block5_pool (MaxPooling2D)  (None, 7, 7, 512)         0         \n",
      "                                                                 \n",
      " flatten (Flatten)           (None, 25088)             0         \n",
      "                                                                 \n",
      " dense (Dense)               (None, 16)                401424    \n",
      "                                                                 \n",
      "=================================================================\n",
      "Total params: 15,116,112\n",
      "Trainable params: 401,424\n",
      "Non-trainable params: 14,714,688\n",
      "_________________________________________________________________\n"
     ]
    }
   ],
   "source": [
    "model.summary()"
   ]
  },
  {
   "cell_type": "code",
   "execution_count": 15,
   "metadata": {
    "id": "FtdUeUKygYCe"
   },
   "outputs": [],
   "source": [
    "model.compile(loss='categorical_crossentropy',optimizer='adam',metrics=['accuracy'])"
   ]
  },
  {
   "cell_type": "code",
   "execution_count": 16,
   "metadata": {
    "colab": {
     "base_uri": "https://localhost:8080/"
    },
    "id": "YE_6yXUWDPAU",
    "outputId": "929a686c-9671-4cb4-9cd4-456e18f582c9"
   },
   "outputs": [
    {
     "data": {
      "text/plain": [
       "(7, 8)"
      ]
     },
     "execution_count": 16,
     "metadata": {},
     "output_type": "execute_result"
    }
   ],
   "source": [
    "len(train),len(test)"
   ]
  },
  {
   "cell_type": "code",
   "execution_count": 17,
   "metadata": {
    "colab": {
     "base_uri": "https://localhost:8080/"
    },
    "id": "Kss6P1MqgYAC",
    "outputId": "eec88abb-6437-49f4-8747-f7ca5add410f"
   },
   "outputs": [
    {
     "name": "stderr",
     "output_type": "stream",
     "text": [
      "C:\\Users\\MNS.Gayathri\\AppData\\Local\\Temp/ipykernel_18056/3094420453.py:1: UserWarning: `Model.fit_generator` is deprecated and will be removed in a future version. Please use `Model.fit`, which supports generators.\n",
      "  model.fit_generator(train,validation_data=test,epochs=10,steps_per_epoch=len(train),\n"
     ]
    },
    {
     "name": "stdout",
     "output_type": "stream",
     "text": [
      "Epoch 1/10\n",
      "7/7 [==============================] - 142s 22s/step - loss: 3.2684 - accuracy: 0.2000 - val_loss: 3.4384 - val_accuracy: 0.2293\n",
      "Epoch 2/10\n",
      "7/7 [==============================] - 138s 21s/step - loss: 1.6591 - accuracy: 0.5200 - val_loss: 2.8882 - val_accuracy: 0.2739\n",
      "Epoch 3/10\n",
      "7/7 [==============================] - 178s 28s/step - loss: 1.0747 - accuracy: 0.7000 - val_loss: 2.6517 - val_accuracy: 0.3567\n",
      "Epoch 4/10\n",
      "7/7 [==============================] - 175s 27s/step - loss: 0.5595 - accuracy: 0.8533 - val_loss: 2.9732 - val_accuracy: 0.2739\n",
      "Epoch 5/10\n",
      "7/7 [==============================] - 177s 28s/step - loss: 0.4571 - accuracy: 0.8333 - val_loss: 2.8895 - val_accuracy: 0.3503\n",
      "Epoch 6/10\n",
      "7/7 [==============================] - 155s 24s/step - loss: 0.3123 - accuracy: 0.8933 - val_loss: 2.7680 - val_accuracy: 0.3694\n",
      "Epoch 7/10\n",
      "7/7 [==============================] - 137s 21s/step - loss: 0.1570 - accuracy: 0.9667 - val_loss: 2.9373 - val_accuracy: 0.3822\n",
      "Epoch 8/10\n",
      "7/7 [==============================] - 130s 20s/step - loss: 0.1291 - accuracy: 0.9667 - val_loss: 2.9120 - val_accuracy: 0.3822\n",
      "Epoch 9/10\n",
      "7/7 [==============================] - 148s 23s/step - loss: 0.0793 - accuracy: 0.9867 - val_loss: 3.0472 - val_accuracy: 0.4013\n",
      "Epoch 10/10\n",
      "7/7 [==============================] - 144s 22s/step - loss: 0.0689 - accuracy: 0.9933 - val_loss: 2.9104 - val_accuracy: 0.3885\n"
     ]
    },
    {
     "data": {
      "text/plain": [
       "<keras.callbacks.History at 0x22e99bf1580>"
      ]
     },
     "execution_count": 17,
     "metadata": {},
     "output_type": "execute_result"
    }
   ],
   "source": [
    "model.fit_generator(train,validation_data=test,epochs=10,steps_per_epoch=len(train),\n",
    "                    validation_steps=len(test))"
   ]
  },
  {
   "cell_type": "code",
   "execution_count": 19,
   "metadata": {
    "colab": {
     "base_uri": "https://localhost:8080/"
    },
    "id": "ui4QQQpCgX7H",
    "outputId": "3e4588b2-a3ec-4718-d268-5fffdea72c59",
    "scrolled": true
   },
   "outputs": [
    {
     "name": "stdout",
     "output_type": "stream",
     "text": [
      "1/1 [==============================] - 1s 585ms/step\n",
      "3\n",
      "cbrtsh\n"
     ]
    }
   ],
   "source": [
    "img1 = image.load_img('C:/Users/MNS.Gayathri/Downloads/train_data/cbrtsh/_D32_10309.jpg',target_size=(224,224))\n",
    "img1 = image.img_to_array(img1)\n",
    "img1 = np.expand_dims(img1,axis=0)\n",
    "pred = np.argmax(model.predict(img1))\n",
    "print(pred)\n",
    "output = ['blasti', 'bonegl', 'brhkyt', 'cbrtsh', 'cmnmyn', 'gretit', 'hilpig', \n",
    "          'himbul', 'himgri', 'hsparo', 'indvul', 'jglowl', 'lbicrw', 'mgprob', 'rebimg', 'wcrsrt']\n",
    "print(output[pred])"
   ]
  },
  {
   "cell_type": "code",
   "execution_count": null,
   "metadata": {},
   "outputs": [],
   "source": []
  }
 ],
 "metadata": {
  "accelerator": "GPU",
  "colab": {
   "gpuType": "T4",
   "provenance": []
  },
  "kernelspec": {
   "display_name": "Python 3 (ipykernel)",
   "language": "python",
   "name": "python3"
  },
  "language_info": {
   "codemirror_mode": {
    "name": "ipython",
    "version": 3
   },
   "file_extension": ".py",
   "mimetype": "text/x-python",
   "name": "python",
   "nbconvert_exporter": "python",
   "pygments_lexer": "ipython3",
   "version": "3.9.7"
  }
 },
 "nbformat": 4,
 "nbformat_minor": 1
}
